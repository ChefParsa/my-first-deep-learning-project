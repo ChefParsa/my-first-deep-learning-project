{
 "cells": [
  {
   "cell_type": "code",
   "execution_count": 1,
   "metadata": {},
   "outputs": [],
   "source": [
    "import os\n",
    "import torch\n",
    "from torch.utils.data import DataLoader, Dataset, random_split\n",
    "from torchvision.transforms import transforms, Compose\n",
    "from torchvision.io import read_image"
   ]
  },
  {
   "cell_type": "code",
   "execution_count": 2,
   "metadata": {},
   "outputs": [
    {
     "data": {
      "text/plain": [
       "<torch._C.Generator at 0x76f1ce929550>"
      ]
     },
     "execution_count": 2,
     "metadata": {},
     "output_type": "execute_result"
    }
   ],
   "source": [
    "torch.manual_seed(57)"
   ]
  },
  {
   "cell_type": "code",
   "execution_count": 3,
   "metadata": {},
   "outputs": [],
   "source": [
    "class pre_process_data(Dataset):\n",
    "    def __init__(self, images_dir, img_transforms=None, target_transforms=None):\n",
    "        self.images_dir = images_dir\n",
    "        self.img_transforms = img_transforms\n",
    "        self.target_transforms = target_transforms\n",
    "        self.img_labels = os.listdir(self.images_dir)\n",
    "        \n",
    "       \n",
    "    def __len__(self):\n",
    "        return len(self.img_labels)\n",
    "    \n",
    "    def __getitem__(self, idx):\n",
    "        img_path = os.path.join(self.images_dir, self.img_labels[idx])\n",
    "        image = read_image(img_path)\n",
    "        image = image.float()\n",
    "        image = image / 255.0\n",
    "        label = self.calculate_label(self.img_labels[idx])\n",
    "        #print(self.img_labels[idx])\n",
    "       \n",
    "        if self.img_transforms:\n",
    "            image = self.img_transforms(image)\n",
    "        if self.target_transforms:\n",
    "            label = self.target_transforms(label)\n",
    "        \n",
    "        return image, label\n",
    "        \n",
    "    def calculate_mean_std(self, dataloader):\n",
    "        mean = 0.0\n",
    "        std = 0.0\n",
    "        total_images_count = 0\n",
    "\n",
    "        for images, _ in dataloader:\n",
    "            batch_samples = images.size(0)  # Number of images in the batch\n",
    "            total_images_count += batch_samples\n",
    "            \n",
    "            images = images.view(batch_samples, images.size(1), -1)  # Flatten the image pixels\n",
    "            mean += images.float().mean(2).sum(0)\n",
    "            std += images.float().std(2).sum(0)\n",
    "\n",
    "        mean /= total_images_count\n",
    "        std /= total_images_count\n",
    "\n",
    "        return mean.item(), std.item()\n",
    "\n",
    "    \n",
    "    def calculate_label(self, img_basename):\n",
    "        tmp = img_basename[:len(img_basename)-4].split(\"_\")\n",
    "        row = tmp[2]\n",
    "        rod_id = int(tmp[3])\n",
    "        if row in {\"A\", \"B\", \"E\", \"F\", \"I\", \"J\"}:\n",
    "            label = 4-(rod_id % 4)\n",
    "        else:\n",
    "            label = (rod_id % 4)+1\n",
    "        return label"
   ]
  },
  {
   "cell_type": "code",
   "execution_count": 4,
   "metadata": {},
   "outputs": [],
   "source": [
    "dataset_transform = transforms.Compose([\n",
    "    transforms.Resize((64, 64)),\n",
    "    #transforms.ToTensor(),\n",
    "])"
   ]
  },
  {
   "cell_type": "code",
   "execution_count": 5,
   "metadata": {},
   "outputs": [],
   "source": [
    "dataset =pre_process_data(images_dir=\"QR_d_best\",img_transforms=dataset_transform)"
   ]
  },
  {
   "cell_type": "code",
   "execution_count": 6,
   "metadata": {},
   "outputs": [],
   "source": [
    "dataloader = DataLoader(dataset, batch_size=32, num_workers=4)"
   ]
  },
  {
   "cell_type": "code",
   "execution_count": 7,
   "metadata": {},
   "outputs": [
    {
     "name": "stdout",
     "output_type": "stream",
     "text": [
      "0.6096397638320923\n",
      "0.14037656784057617\n",
      "0.61\n",
      "0.14\n"
     ]
    }
   ],
   "source": [
    "mean, std = dataset.calculate_mean_std(dataloader)\n",
    "print(mean)\n",
    "print(std)\n",
    "mean = round(mean, 3)\n",
    "std = round(std, 3)\n",
    "print(mean)\n",
    "print(std)"
   ]
  },
  {
   "cell_type": "code",
   "execution_count": 8,
   "metadata": {},
   "outputs": [
    {
     "name": "stdout",
     "output_type": "stream",
     "text": [
      "3888\n",
      "432\n"
     ]
    }
   ],
   "source": [
    "train_size = int(0.9 * len(dataset))\n",
    "test_size = len(dataset) - train_size\n",
    "\n",
    "print(train_size)\n",
    "print(test_size)"
   ]
  },
  {
   "cell_type": "code",
   "execution_count": 9,
   "metadata": {},
   "outputs": [],
   "source": [
    "train_dataset, test_dataset = random_split(dataset, [train_size, test_size])"
   ]
  },
  {
   "cell_type": "code",
   "execution_count": 10,
   "metadata": {},
   "outputs": [],
   "source": [
    "train_transform = transforms.Compose([\n",
    "    transforms.Resize((64, 64)),\n",
    "    #transforms.ToTensor(),\n",
    "    transforms.RandomHorizontalFlip(),  # Randomly flip images horizontally\n",
    "    transforms.RandomRotation(15),\n",
    "    transforms.ColorJitter(brightness=0.2, contrast=0.2, saturation=0.2, hue=0.2),\n",
    "    transforms.Normalize(mean=[mean], std = [std])\n",
    "])\n",
    "\n",
    "test_transform = transforms.Compose([\n",
    "    transforms.Resize((64, 64)),\n",
    "    transforms.Normalize(mean=[mean], std=[std])\n",
    "])\n",
    "\n",
    "def target_transform(label):\n",
    "    one_hot = torch.zeros((4))\n",
    "    one_hot[label - 1] = 1.0\n",
    "    return one_hot"
   ]
  },
  {
   "cell_type": "code",
   "execution_count": 11,
   "metadata": {},
   "outputs": [],
   "source": [
    "train_dataset.dataset.img_transforms = train_transform\n",
    "train_dataset.dataset.target_transforms = target_transform\n",
    "test_dataset.dataset.img_transforms = test_transform\n",
    "test_dataset.dataset.target_transforms = target_transform"
   ]
  },
  {
   "cell_type": "code",
   "execution_count": 12,
   "metadata": {},
   "outputs": [],
   "source": [
    "train_loader = DataLoader(train_dataset, batch_size=32, shuffle=True, num_workers=4)\n",
    "test_loader = DataLoader(test_dataset, batch_size=32, shuffle=False, num_workers=4)"
   ]
  },
  {
   "cell_type": "code",
   "execution_count": 13,
   "metadata": {},
   "outputs": [
    {
     "name": "stdout",
     "output_type": "stream",
     "text": [
      "432\n",
      "432\n",
      "torch.Size([16, 1, 64, 64])\n"
     ]
    }
   ],
   "source": [
    "image_counter = 0\n",
    "label_counter = 0\n",
    "for images, labels in test_loader:\n",
    "    image_counter += len(images)\n",
    "    label_counter += len(labels)\n",
    "    \n",
    "print(image_counter)\n",
    "print(label_counter)\n",
    "print(images.shape)\n"
   ]
  },
  {
   "cell_type": "code",
   "execution_count": 14,
   "metadata": {},
   "outputs": [],
   "source": [
    "import matplotlib.pyplot as plt"
   ]
  },
  {
   "cell_type": "code",
   "execution_count": 15,
   "metadata": {},
   "outputs": [
    {
     "name": "stdout",
     "output_type": "stream",
     "text": [
      "tensor([[2.2255, 2.2255, 2.5616,  ..., 1.4132, 1.3291, 1.4412],\n",
      "        [2.2535, 2.2255, 2.5056,  ..., 1.4972, 1.4132, 1.3852],\n",
      "        [2.3095, 2.5056, 2.5336,  ..., 1.2731, 1.5252, 1.4132],\n",
      "        ...,\n",
      "        [1.5252, 1.5812, 1.5252,  ..., 1.4132, 1.4132, 1.4132],\n",
      "        [1.4412, 1.4692, 1.4132,  ..., 1.4412, 1.4412, 1.4132],\n",
      "        [1.4132, 1.4132, 1.3852,  ..., 1.4132, 1.4132, 1.3852]])\n",
      "tensor([0., 0., 0., 1.])\n"
     ]
    },
    {
     "data": {
      "image/png": "[encoded data removed]",
      "text/plain": [
       "<Figure size 640x480 with 1 Axes>"
      ]
     },
     "metadata": {},
     "output_type": "display_data"
    }
   ],
   "source": [
    "for images, _ in train_loader:\n",
    "    print(images[6][0])\n",
    "    print(_[6])\n",
    "    plt.imshow(images[6][0], cmap=\"gray\")\n",
    "    plt.show()\n",
    "    break"
   ]
  },
  {
   "cell_type": "code",
   "execution_count": 16,
   "metadata": {},
   "outputs": [],
   "source": [
    "import torch\n",
    "import torch.nn as nn\n",
    "import torch.nn.functional as F\n",
    "import torch.optim as optim\n",
    "from tqdm import tqdm"
   ]
  },
  {
   "cell_type": "code",
   "execution_count": 17,
   "metadata": {},
   "outputs": [
    {
     "name": "stdout",
     "output_type": "stream",
     "text": [
      "Running on GPU\n"
     ]
    }
   ],
   "source": [
    "if torch.cuda.is_available():\n",
    "    device = \"cuda:0\"\n",
    "    print(\"Running on GPU\")\n",
    "else:\n",
    "    device = \"cpu\"\n",
    "    print(\"Running on CPU\")\n",
    "    \n",
    "class Net(nn.Module):\n",
    "    def __init__(self):\n",
    "        super().__init__()\n",
    "        \n",
    "        self.conv1 = nn.Conv2d(1, 32, 7)\n",
    "        self.conv2 = nn.Conv2d(32, 64, 5)\n",
    "        self.conv3 = nn.Conv2d(64, 128, 5)\n",
    "        self.conv4 = nn.Conv2d(128, 256, 3)\n",
    "        \n",
    "        x = torch.randn((1, 64, 64))\n",
    "        self._to_linear = None\n",
    "        \n",
    "        self.convs(x)\n",
    "        \n",
    "        self.fc1 = nn.Linear(self._to_linear, 256)\n",
    "        self.fc2 = nn.Linear(256, 4)\n",
    "        \n",
    "    def convs(self, X):\n",
    "        X = F.max_pool2d(F.relu(self.conv1(X)), (2, 2))\n",
    "        X = F.max_pool2d(F.relu(self.conv2(X)), (2, 2))\n",
    "        X = F.max_pool2d(F.relu(self.conv3(X)), (2, 2))\n",
    "        X = F.max_pool2d(F.relu(self.conv4(X)), (2, 2))\n",
    "        if self._to_linear is None:\n",
    "            self._to_linear = X.shape[0] * X.shape[1] * X.shape[2]\n",
    "            \n",
    "        return X\n",
    "    \n",
    "    def forward(self, X):\n",
    "        X = self.convs(X)\n",
    "        X = X.view(-1, self._to_linear)\n",
    "        X = F.relu(self.fc1(X))\n",
    "        X = self.fc2(X)\n",
    "        \n",
    "        return X\n",
    "    \n"
   ]
  },
  {
   "cell_type": "code",
   "execution_count": 18,
   "metadata": {},
   "outputs": [],
   "source": [
    "num_recognition = Net().to(device)"
   ]
  },
  {
   "cell_type": "code",
   "execution_count": 19,
   "metadata": {},
   "outputs": [],
   "source": [
    "optimizer = optim.Adam(num_recognition.parameters(), lr=0.0001)\n",
    "loss_function  = nn.CrossEntropyLoss()\n",
    "batch_size = 100\n",
    "epochs = 20\n",
    "\n",
    "def train(num_recognition):\n",
    "    for epoch in range(epochs):\n",
    "        for images, labels in tqdm(train_loader):\n",
    "            images, labels = images.to(device), labels.to(device)\n",
    "            \n",
    "            num_recognition.zero_grad()\n",
    "            #optimizer.zero_grad()\n",
    "            output = num_recognition(images)\n",
    "            \n",
    "            loss = loss_function(output, labels)\n",
    "            \n",
    "            loss.backward()\n",
    "            optimizer.step()\n",
    "        \n",
    "        print(f\"epoch: {epoch}, loss: {loss}\")"
   ]
  },
  {
   "cell_type": "code",
   "execution_count": 20,
   "metadata": {},
   "outputs": [
    {
     "name": "stderr",
     "output_type": "stream",
     "text": [
      "100%|██████████| 122/122 [00:00<00:00, 126.08it/s]\n"
     ]
    },
    {
     "name": "stdout",
     "output_type": "stream",
     "text": [
      "epoch: 0, loss: 1.0173938274383545\n"
     ]
    },
    {
     "name": "stderr",
     "output_type": "stream",
     "text": [
      "100%|██████████| 122/122 [00:00<00:00, 238.51it/s]\n"
     ]
    },
    {
     "name": "stdout",
     "output_type": "stream",
     "text": [
      "epoch: 1, loss: 0.2836615741252899\n"
     ]
    },
    {
     "name": "stderr",
     "output_type": "stream",
     "text": [
      "100%|██████████| 122/122 [00:00<00:00, 237.52it/s]\n"
     ]
    },
    {
     "name": "stdout",
     "output_type": "stream",
     "text": [
      "epoch: 2, loss: 0.12660667300224304\n"
     ]
    },
    {
     "name": "stderr",
     "output_type": "stream",
     "text": [
      "100%|██████████| 122/122 [00:00<00:00, 231.80it/s]\n"
     ]
    },
    {
     "name": "stdout",
     "output_type": "stream",
     "text": [
      "epoch: 3, loss: 0.16857179999351501\n"
     ]
    },
    {
     "name": "stderr",
     "output_type": "stream",
     "text": [
      "100%|██████████| 122/122 [00:00<00:00, 235.73it/s]\n"
     ]
    },
    {
     "name": "stdout",
     "output_type": "stream",
     "text": [
      "epoch: 4, loss: 0.00910724513232708\n"
     ]
    },
    {
     "name": "stderr",
     "output_type": "stream",
     "text": [
      "100%|██████████| 122/122 [00:00<00:00, 243.60it/s]\n"
     ]
    },
    {
     "name": "stdout",
     "output_type": "stream",
     "text": [
      "epoch: 5, loss: 0.12689617276191711\n"
     ]
    },
    {
     "name": "stderr",
     "output_type": "stream",
     "text": [
      "100%|██████████| 122/122 [00:00<00:00, 238.42it/s]\n"
     ]
    },
    {
     "name": "stdout",
     "output_type": "stream",
     "text": [
      "epoch: 6, loss: 0.10128258168697357\n"
     ]
    },
    {
     "name": "stderr",
     "output_type": "stream",
     "text": [
      "100%|██████████| 122/122 [00:00<00:00, 231.28it/s]\n"
     ]
    },
    {
     "name": "stdout",
     "output_type": "stream",
     "text": [
      "epoch: 7, loss: 0.0164065919816494\n"
     ]
    },
    {
     "name": "stderr",
     "output_type": "stream",
     "text": [
      "100%|██████████| 122/122 [00:00<00:00, 237.11it/s]\n"
     ]
    },
    {
     "name": "stdout",
     "output_type": "stream",
     "text": [
      "epoch: 8, loss: 0.01592325046658516\n"
     ]
    },
    {
     "name": "stderr",
     "output_type": "stream",
     "text": [
      "100%|██████████| 122/122 [00:00<00:00, 234.47it/s]\n"
     ]
    },
    {
     "name": "stdout",
     "output_type": "stream",
     "text": [
      "epoch: 9, loss: 0.012732368893921375\n"
     ]
    },
    {
     "name": "stderr",
     "output_type": "stream",
     "text": [
      "100%|██████████| 122/122 [00:00<00:00, 234.58it/s]\n"
     ]
    },
    {
     "name": "stdout",
     "output_type": "stream",
     "text": [
      "epoch: 10, loss: 0.10715445876121521\n"
     ]
    },
    {
     "name": "stderr",
     "output_type": "stream",
     "text": [
      "100%|██████████| 122/122 [00:00<00:00, 234.89it/s]\n"
     ]
    },
    {
     "name": "stdout",
     "output_type": "stream",
     "text": [
      "epoch: 11, loss: 0.034660451114177704\n"
     ]
    },
    {
     "name": "stderr",
     "output_type": "stream",
     "text": [
      "100%|██████████| 122/122 [00:00<00:00, 227.67it/s]\n"
     ]
    },
    {
     "name": "stdout",
     "output_type": "stream",
     "text": [
      "epoch: 12, loss: 0.0001638564426684752\n"
     ]
    },
    {
     "name": "stderr",
     "output_type": "stream",
     "text": [
      "100%|██████████| 122/122 [00:00<00:00, 237.74it/s]\n"
     ]
    },
    {
     "name": "stdout",
     "output_type": "stream",
     "text": [
      "epoch: 13, loss: 0.0014182113809511065\n"
     ]
    },
    {
     "name": "stderr",
     "output_type": "stream",
     "text": [
      "100%|██████████| 122/122 [00:00<00:00, 230.09it/s]\n"
     ]
    },
    {
     "name": "stdout",
     "output_type": "stream",
     "text": [
      "epoch: 14, loss: 0.00039084706804715097\n"
     ]
    },
    {
     "name": "stderr",
     "output_type": "stream",
     "text": [
      "100%|██████████| 122/122 [00:00<00:00, 226.52it/s]\n"
     ]
    },
    {
     "name": "stdout",
     "output_type": "stream",
     "text": [
      "epoch: 15, loss: 0.0007303052116185427\n"
     ]
    },
    {
     "name": "stderr",
     "output_type": "stream",
     "text": [
      "100%|██████████| 122/122 [00:00<00:00, 232.77it/s]\n"
     ]
    },
    {
     "name": "stdout",
     "output_type": "stream",
     "text": [
      "epoch: 16, loss: 0.00012965218047611415\n"
     ]
    },
    {
     "name": "stderr",
     "output_type": "stream",
     "text": [
      "100%|██████████| 122/122 [00:00<00:00, 230.32it/s]\n"
     ]
    },
    {
     "name": "stdout",
     "output_type": "stream",
     "text": [
      "epoch: 17, loss: 0.03848392888903618\n"
     ]
    },
    {
     "name": "stderr",
     "output_type": "stream",
     "text": [
      "100%|██████████| 122/122 [00:00<00:00, 235.40it/s]\n"
     ]
    },
    {
     "name": "stdout",
     "output_type": "stream",
     "text": [
      "epoch: 18, loss: 2.550193494244013e-05\n"
     ]
    },
    {
     "name": "stderr",
     "output_type": "stream",
     "text": [
      "100%|██████████| 122/122 [00:00<00:00, 233.55it/s]"
     ]
    },
    {
     "name": "stdout",
     "output_type": "stream",
     "text": [
      "epoch: 19, loss: 0.0041120960377156734\n"
     ]
    },
    {
     "name": "stderr",
     "output_type": "stream",
     "text": [
      "\n"
     ]
    }
   ],
   "source": [
    "train(num_recognition)"
   ]
  },
  {
   "cell_type": "code",
   "execution_count": 21,
   "metadata": {},
   "outputs": [],
   "source": [
    "def test(num_recognition):\n",
    "    correct = 0\n",
    "    total = 0\n",
    "    with torch.no_grad():\n",
    "        for images, labels in tqdm(test_loader):\n",
    "            output = num_recognition(images.to(device))\n",
    "            # print(output.shape)\n",
    "            predicted_class = torch.argmax(output, dim=1)\n",
    "            # print(predicted_class)\n",
    "            true_class = torch.argmax(labels.to(device), dim=1)\n",
    "            # print(true_class)\n",
    "            comparision = predicted_class == true_class\n",
    "            count_true = comparision.sum().item()\n",
    "            len_comparision = comparision.numel()\n",
    "            count_false = len_comparision - count_true\n",
    "            total += len_comparision\n",
    "            correct += count_true\n",
    "            # print(count_true)\n",
    "            # print(count_false)\n",
    "            # print(predicted_class == true_class)\n",
    "            # print(comparision.shape)\n",
    "            # print(predicted_class.shape)\n",
    "            # break\n",
    "\n",
    "    print(f\"Accuracy: {round(correct/total, 3)}\")\n",
    "    print(correct)"
   ]
  },
  {
   "cell_type": "code",
   "execution_count": 22,
   "metadata": {},
   "outputs": [
    {
     "name": "stderr",
     "output_type": "stream",
     "text": [
      "100%|██████████| 14/14 [00:00<00:00, 109.75it/s]"
     ]
    },
    {
     "name": "stdout",
     "output_type": "stream",
     "text": [
      "Accuracy: 0.988\n",
      "427\n"
     ]
    },
    {
     "name": "stderr",
     "output_type": "stream",
     "text": [
      "\n"
     ]
    }
   ],
   "source": [
    "test(num_recognition)"
   ]
  },
  {
   "cell_type": "code",
   "execution_count": 23,
   "metadata": {},
   "outputs": [],
   "source": [
    "from torch.utils.tensorboard import SummaryWriter"
   ]
  },
  {
   "cell_type": "code",
   "execution_count": 24,
   "metadata": {},
   "outputs": [],
   "source": [
    "writer = SummaryWriter(\"runs/logs\")"
   ]
  },
  {
   "cell_type": "code",
   "execution_count": 25,
   "metadata": {},
   "outputs": [],
   "source": [
    "def test_model(num_recognition):\n",
    "    correct = 0\n",
    "    total = 0\n",
    "    with torch.no_grad():\n",
    "        for images, labels in tqdm(test_loader):\n",
    "            output = num_recognition(images.to(device))\n",
    "            # print(output.shape)\n",
    "            predicted_class = torch.argmax(output, dim=1)\n",
    "            # print(predicted_class)\n",
    "            true_class = torch.argmax(labels.to(device), dim=1)\n",
    "            # print(true_class)\n",
    "            comparision = predicted_class == true_class\n",
    "            count_true = comparision.sum().item()\n",
    "            len_comparision = comparision.numel()\n",
    "            count_false = len_comparision - count_true\n",
    "            total += len_comparision\n",
    "            correct += count_true\n",
    "            \n",
    "            accuracy = 100 * correct/ total\n",
    "            writer.add_scalar(\"Test Accuracy\", accuracy)\n",
    "            # print(count_true)\n",
    "            # print(count_false)\n",
    "            # print(predicted_class == true_class)\n",
    "            # print(comparision.shape)\n",
    "            # print(predicted_class.shape)\n",
    "            # break\n",
    "\n",
    "    print(f\"Accuracy: {round(correct/total, 3)}\")\n",
    "    print(correct)"
   ]
  },
  {
   "cell_type": "code",
   "execution_count": 26,
   "metadata": {},
   "outputs": [
    {
     "name": "stderr",
     "output_type": "stream",
     "text": [
      "  0%|          | 0/14 [00:00<?, ?it/s]"
     ]
    },
    {
     "name": "stderr",
     "output_type": "stream",
     "text": [
      "100%|██████████| 14/14 [00:00<00:00, 99.07it/s]"
     ]
    },
    {
     "name": "stdout",
     "output_type": "stream",
     "text": [
      "Accuracy: 0.988\n",
      "427\n"
     ]
    },
    {
     "name": "stderr",
     "output_type": "stream",
     "text": [
      "\n"
     ]
    }
   ],
   "source": [
    "test(num_recognition)\n",
    "writer.close()"
   ]
  },
  {
   "cell_type": "code",
   "execution_count": 27,
   "metadata": {},
   "outputs": [],
   "source": [
    "# class earlyStopping():\n",
    "#     def __init__(self, patience = 5, min_delta = 0.1):\n",
    "#         self.patience = patience\n",
    "#         self.min_delta = min_delta\n",
    "#         self.patience_conter = 0\n",
    "#         self.min_validation_loss = float('inf')\n",
    "#     def __call__(self, validation_loss):\n",
    "#         if validation_loss < self.min_validation_loss:\n",
    "#             self.min_validation_loss = validation_loss\n",
    "#             self.patience_conter = 0\n",
    "#         elif validation_loss - self.min_validation_loss > self.min_delta:\n",
    "#             self.patience_conter += 1\n",
    "#             if self.patience_conter >= self.patience:\n",
    "#                 return True\n",
    "#         return False"
   ]
  },
  {
   "cell_type": "code",
   "execution_count": 28,
   "metadata": {},
   "outputs": [],
   "source": [
    "class EarlyStopping():\n",
    "    def __init__(self, patience = 3, min_delta = 0.01):\n",
    "        self.patience = patience\n",
    "        self.min_delta = min_delta\n",
    "        self.patience_counter = 0\n",
    "    def early_stop(self, validation_loss, train_loss):\n",
    "        if (validation_loss - train_loss) > self.min_delta:\n",
    "            self.patience_counter += 1\n",
    "            if self.patience_counter >= self.patience:\n",
    "                return True\n",
    "        return False"
   ]
  },
  {
   "cell_type": "code",
   "execution_count": 29,
   "metadata": {},
   "outputs": [],
   "source": [
    "class EarlyStopping:\n",
    "    def __init__(self, patience=3, min_delta=0.0):\n",
    "        self.patience = patience\n",
    "        self.min_delta = min_delta\n",
    "        self.patience_counter = 0\n",
    "        self.best_validation_loss = float('inf')\n",
    "    \n",
    "    def early_stop(self, validation_loss):\n",
    "        # Check if validation loss has improved sufficiently\n",
    "        if validation_loss < self.best_validation_loss - self.min_delta:\n",
    "            self.best_validation_loss = validation_loss\n",
    "            self.patience_counter = 0  # Reset the counter if there is an improvement\n",
    "        else:\n",
    "            self.patience_counter += 1  # No improvement\n",
    "            if self.patience_counter >= self.patience:\n",
    "                return True  # Stop training if patience has been exhausted\n",
    "        return False\n"
   ]
  },
  {
   "cell_type": "code",
   "execution_count": 30,
   "metadata": {},
   "outputs": [
    {
     "ename": "TypeError",
     "evalue": "EarlyStopping.early_stop() takes 2 positional arguments but 3 were given",
     "output_type": "error",
     "traceback": [
      "\u001b[0;31m---------------------------------------------------------------------------\u001b[0m",
      "\u001b[0;31mTypeError\u001b[0m                                 Traceback (most recent call last)",
      "Cell \u001b[0;32mIn[30], line 2\u001b[0m\n\u001b[1;32m      1\u001b[0m t \u001b[38;5;241m=\u001b[39m EarlyStopping()\n\u001b[0;32m----> 2\u001b[0m \u001b[43mt\u001b[49m\u001b[38;5;241;43m.\u001b[39;49m\u001b[43mearly_stop\u001b[49m\u001b[43m(\u001b[49m\u001b[38;5;241;43m0.0270\u001b[39;49m\u001b[43m,\u001b[49m\u001b[43m \u001b[49m\u001b[38;5;241;43m0.0001\u001b[39;49m\u001b[43m)\u001b[49m\n\u001b[1;32m      3\u001b[0m t\u001b[38;5;241m.\u001b[39mearly_stop(\u001b[38;5;241m0.0253\u001b[39m, \u001b[38;5;241m0.0001\u001b[39m)\n\u001b[1;32m      4\u001b[0m t\u001b[38;5;241m.\u001b[39mearly_stop(\u001b[38;5;241m0.0309\u001b[39m, \u001b[38;5;241m0.0001\u001b[39m)\n",
      "\u001b[0;31mTypeError\u001b[0m: EarlyStopping.early_stop() takes 2 positional arguments but 3 were given"
     ]
    }
   ],
   "source": [
    "t = EarlyStopping()\n",
    "t.early_stop(0.0270, 0.0001)\n",
    "t.early_stop(0.0253, 0.0001)\n",
    "t.early_stop(0.0309, 0.0001)"
   ]
  },
  {
   "cell_type": "code",
   "execution_count": 31,
   "metadata": {},
   "outputs": [],
   "source": [
    "class EarlyStopping1():\n",
    "    def __init__(self, patience=3, min_delta=0.00):\n",
    "        self.patience = patience\n",
    "        self.min_delta = min_delta\n",
    "        self.patience_counter = 0\n",
    "        self.best_loss = None\n",
    "\n",
    "    def early_stop(self, validation_loss):\n",
    "        if self.best_loss is None:\n",
    "            self.best_loss = validation_loss\n",
    "        elif validation_loss < self.best_loss - self.min_delta:\n",
    "            self.best_loss = validation_loss\n",
    "            self.patience_counter = 0\n",
    "        else:\n",
    "            self.patience_counter += 1\n",
    "            if self.patience_counter >= self.patience:\n",
    "                return True\n",
    "        return False\n"
   ]
  },
  {
   "cell_type": "code",
   "execution_count": 32,
   "metadata": {},
   "outputs": [],
   "source": [
    "def calculate_accuracy(output, labels):\n",
    "    predicted_class = torch.argmax(output, dim=1)\n",
    "    true_class = torch.argmax(labels, dim=1)\n",
    "    comparision = predicted_class == true_class\n",
    "    count_true = comparision.sum().item()\n",
    "    total_train = comparision.numel()\n",
    "    \n",
    "    accuracy = round(count_true / total_train, 3)\n",
    "    \n",
    "    return accuracy"
   ]
  },
  {
   "cell_type": "code",
   "execution_count": 33,
   "metadata": {},
   "outputs": [],
   "source": [
    "optimizer = optim.Adam(num_recognition.parameters(), lr=0.0001)\n",
    "loss_function  = nn.CrossEntropyLoss()\n",
    "batch_size = 100\n",
    "epochs = 50\n",
    "earlystopper = EarlyStopping1(patience=10, min_delta=0.008)\n",
    "def train(num_recognition):\n",
    "    best_accuracy = -1\n",
    "    for epoch in range(epochs):\n",
    "        num_recognition.train()\n",
    "        train_running_accuracy = 0\n",
    "        train_running_loss = 0\n",
    "        \n",
    "        for train_images, train_labels in train_loader:\n",
    "            \n",
    "            train_images, train_labels = train_images.to(device), train_labels.to(device)\n",
    "            \n",
    "            num_recognition.zero_grad()\n",
    "            #optimizer.zero_grad()\n",
    "            output = num_recognition(train_images)\n",
    "            \n",
    "            loss = loss_function(output, train_labels)\n",
    "            train_running_loss += loss.item()\n",
    "            train_running_accuracy += calculate_accuracy(output, train_labels)\n",
    "            \n",
    "            loss.backward()\n",
    "            optimizer.step()\n",
    "        \n",
    "        # Average loss and accuracy\n",
    "        train_loss = train_running_loss / len(train_loader)\n",
    "        train_accuracy = train_running_accuracy / len(train_loader)\n",
    "        \n",
    "        # Log training metrics\n",
    "        writer.add_scalar('Training Loss', train_loss, epoch)\n",
    "        writer.add_scalar('Training Accuracy', train_accuracy, epoch)\n",
    "        \n",
    "        #print(f\"epoch: {epoch}, loss: {loss}\")\n",
    "        \n",
    "        # Evaluate on the test set\n",
    "        num_recognition.eval()\n",
    "        test_running_loss = 0.0\n",
    "        test_running_accuracy = 0.0\n",
    "\n",
    "        with torch.no_grad():\n",
    "            for test_images, test_labels in test_loader:\n",
    "                test_images, test_labels = test_images.to(device), test_labels.to(device)\n",
    "                outputs = num_recognition(test_images)\n",
    "                loss = loss_function(outputs, test_labels)\n",
    "                test_running_loss += loss.item()\n",
    "                test_running_accuracy += calculate_accuracy(outputs, test_labels)\n",
    "\n",
    "        # Average loss and accuracy\n",
    "        test_loss = test_running_loss / len(test_loader)\n",
    "        test_accuracy = test_running_accuracy / len(test_loader)\n",
    "\n",
    "        # Log test metrics\n",
    "        writer.add_scalar('Test Loss', test_loss, epoch)\n",
    "        writer.add_scalar('Test Accuracy', test_accuracy, epoch)\n",
    "        \n",
    "        print(f'Epoch [{epoch + 1}/{epochs}], '\n",
    "              f'Train Loss: {train_loss:.4f}, Train Accuracy: {train_accuracy:.4f}, '\n",
    "              f'Test Loss: {test_loss:.4f}, Test Accuracy: {test_accuracy:.4f}')\n",
    "        \n",
    "        if test_accuracy > best_accuracy:\n",
    "            best_accuracy = test_accuracy\n",
    "            torch.save(num_recognition, \"best_model.pth\")\n",
    "            print(f\"beast accuracy till now is : {best_accuracy}\")\n",
    "        \n",
    "        if earlystopper.early_stop(test_loss):\n",
    "            print(f\"early stop at epoch: {epoch + 1}\")\n",
    "            break\n"
   ]
  },
  {
   "cell_type": "code",
   "execution_count": null,
   "metadata": {},
   "outputs": [],
   "source": [
    "num_recognition = Net().to(device)"
   ]
  },
  {
   "cell_type": "code",
   "execution_count": 34,
   "metadata": {},
   "outputs": [
    {
     "name": "stdout",
     "output_type": "stream",
     "text": [
      "Epoch [1/50], Train Loss: 0.0205, Train Accuracy: 0.9934, Test Loss: 0.0987, Test Accuracy: 0.9779\n",
      "beast accuracy till now is : 0.9778571428571429\n",
      "Epoch [2/50], Train Loss: 0.0108, Train Accuracy: 0.9972, Test Loss: 0.0283, Test Accuracy: 0.9911\n",
      "beast accuracy till now is : 0.9911428571428571\n",
      "Epoch [3/50], Train Loss: 0.0025, Train Accuracy: 1.0000, Test Loss: 0.0224, Test Accuracy: 0.9911\n",
      "Epoch [4/50], Train Loss: 0.0015, Train Accuracy: 1.0000, Test Loss: 0.0186, Test Accuracy: 0.9911\n",
      "Epoch [5/50], Train Loss: 0.0011, Train Accuracy: 1.0000, Test Loss: 0.0190, Test Accuracy: 0.9956\n",
      "beast accuracy till now is : 0.9955714285714287\n",
      "Epoch [6/50], Train Loss: 0.0008, Train Accuracy: 1.0000, Test Loss: 0.0197, Test Accuracy: 0.9889\n",
      "Epoch [7/50], Train Loss: 0.0006, Train Accuracy: 1.0000, Test Loss: 0.0152, Test Accuracy: 0.9956\n",
      "Epoch [8/50], Train Loss: 0.0005, Train Accuracy: 1.0000, Test Loss: 0.0173, Test Accuracy: 0.9956\n",
      "Epoch [9/50], Train Loss: 0.0004, Train Accuracy: 1.0000, Test Loss: 0.0224, Test Accuracy: 0.9934\n",
      "Epoch [10/50], Train Loss: 0.0004, Train Accuracy: 1.0000, Test Loss: 0.0145, Test Accuracy: 0.9956\n",
      "Epoch [11/50], Train Loss: 0.0003, Train Accuracy: 1.0000, Test Loss: 0.0165, Test Accuracy: 0.9911\n",
      "Epoch [12/50], Train Loss: 0.0002, Train Accuracy: 1.0000, Test Loss: 0.0152, Test Accuracy: 0.9956\n",
      "Epoch [13/50], Train Loss: 0.0002, Train Accuracy: 1.0000, Test Loss: 0.0163, Test Accuracy: 0.9956\n",
      "Epoch [14/50], Train Loss: 0.0002, Train Accuracy: 1.0000, Test Loss: 0.0147, Test Accuracy: 0.9956\n",
      "early stop at epoch: 14\n"
     ]
    }
   ],
   "source": [
    "#num_recognition = Net().to(device)\n",
    "\n",
    "train(num_recognition)\n",
    "writer.close()"
   ]
  },
  {
   "cell_type": "code",
   "execution_count": 35,
   "metadata": {},
   "outputs": [
    {
     "name": "stdout",
     "output_type": "stream",
     "text": [
      "{1: {'TP': 97, 'FP': 0, 'FN': 2}, 2: {'TP': 113, 'FP': 0, 'FN': 0}, 3: {'TP': 111, 'FP': 0, 'FN': 0}, 4: {'TP': 109, 'FP': 2, 'FN': 0}}\n"
     ]
    }
   ],
   "source": [
    "metrics = {\n",
    "    1:{\"TP\":0, \"FP\":0, \"FN\":0}, \n",
    "    2:{\"TP\":0, \"FP\":0, \"FN\":0}, \n",
    "    3:{\"TP\":0, \"FP\":0, \"FN\":0}, \n",
    "    4:{\"TP\":0, \"FP\":0, \"FN\":0}\n",
    "}\n",
    "\n",
    "batch_size = 100\n",
    "correct = 0\n",
    "\n",
    "confusion_matrix = [[0 for i in range(4)] for j in range(4)]\n",
    "\n",
    "with torch.no_grad():\n",
    "    for test_images, test_labels in test_loader:\n",
    "        test_images, test_labels = test_images.to(device), test_labels.to(device)\n",
    "        output = num_recognition(test_images)\n",
    "        predicted = torch.argmax(output, dim=1)\n",
    "        true_label = torch.argmax(test_labels, dim=1)\n",
    "        comparision = predicted == true_label\n",
    "        for i in range(len(comparision)):\n",
    "            if comparision[i]:\n",
    "                correct += 1\n",
    "                metrics[int(predicted[i])+1][\"TP\"] += 1\n",
    "                confusion_matrix[true_label[i]][predicted[i]] += 1\n",
    "            else:\n",
    "                metrics[int(predicted[i])+1][\"FP\"] += 1\n",
    "                metrics[int(true_label[i])+1][\"FN\"] += 1\n",
    "                confusion_matrix[true_label[i]][predicted[i]] += 1\n",
    "\n",
    "                \n",
    "print(metrics)\n"
   ]
  },
  {
   "cell_type": "code",
   "execution_count": 36,
   "metadata": {},
   "outputs": [
    {
     "name": "stdout",
     "output_type": "stream",
     "text": [
      "[[97, 0, 0, 2], [0, 113, 0, 0], [0, 0, 111, 0], [0, 0, 0, 109]]\n"
     ]
    }
   ],
   "source": [
    "print(confusion_matrix)"
   ]
  },
  {
   "cell_type": "code",
   "execution_count": 37,
   "metadata": {},
   "outputs": [],
   "source": [
    "import matplotlib.pyplot as plt\n",
    "import io\n",
    "from PIL import Image\n",
    "import numpy as np"
   ]
  },
  {
   "cell_type": "code",
   "execution_count": 38,
   "metadata": {},
   "outputs": [
    {
     "name": "stderr",
     "output_type": "stream",
     "text": [
      "/tmp/ipykernel_6345/2770099397.py:12: UserWarning: set_ticklabels() should only be used with a fixed number of ticks, i.e. after set_ticks() or using a FixedLocator.\n",
      "  ax.set_xticklabels([''] + ['pred1', 'pred2', 'pred3', 'pred4'])\n",
      "/tmp/ipykernel_6345/2770099397.py:13: UserWarning: set_ticklabels() should only be used with a fixed number of ticks, i.e. after set_ticks() or using a FixedLocator.\n",
      "  ax.set_yticklabels([''] + list(metrics.keys()))\n"
     ]
    },
    {
     "data": {
      "image/png": "[encoded data removed]",
      "text/plain": [
       "<Figure size 640x480 with 2 Axes>"
      ]
     },
     "metadata": {},
     "output_type": "display_data"
    }
   ],
   "source": [
    "# Convert the list to a numpy array\n",
    "# confusion_matrix = np.array(confusion_matrix)\n",
    "\n",
    "# Plotting the confusion matrix\n",
    "fig, ax = plt.subplots()\n",
    "cax = ax.matshow(confusion_matrix, cmap=plt.cm.Blues)\n",
    "\n",
    "# Adding color bar\n",
    "plt.colorbar(cax)\n",
    "\n",
    "# Setting labels for axes\n",
    "ax.set_xticklabels([''] + ['pred1', 'pred2', 'pred3', 'pred4'])\n",
    "ax.set_yticklabels([''] + list(metrics.keys()))\n",
    "\n",
    "# Adding text annotations\n",
    "for i in range(len(confusion_matrix)):\n",
    "    for j in range(len(confusion_matrix[i])):\n",
    "        plt.text(j, i, str(confusion_matrix[i][j]), va='center', ha='center')\n",
    "\n",
    "plt.xlabel('Predicted')\n",
    "plt.ylabel('Actual')\n",
    "plt.show()\n",
    "\n",
    "buf = io.BytesIO()\n",
    "plt.savefig(buf, format='png')\n",
    "buf.seek(0)\n",
    "plt.close()\n",
    "image = Image.open(buf)\n",
    "image = image.convert(\"RGB\")\n",
    "image = np.array(image)\n",
    "\n",
    "image_tensor = torch.tensor(image).permute(2, 0, 1)  # Convert to CxHxW format\n",
    "\n",
    "# Step 3: Log the image to TensorBoard\n",
    "writer = SummaryWriter('runs/matplotlib_example')\n",
    "\n",
    "# Add the image to TensorBoard\n",
    "writer.add_image('Sine_Wave_Plot', image_tensor)\n",
    "\n",
    "# Close the writer\n",
    "writer.close()"
   ]
  },
  {
   "cell_type": "code",
   "execution_count": null,
   "metadata": {},
   "outputs": [],
   "source": [
    "import io\n",
    "from PIL import Image\n",
    "import numpy as np"
   ]
  },
  {
   "cell_type": "code",
   "execution_count": null,
   "metadata": {},
   "outputs": [],
   "source": []
  },
  {
   "cell_type": "code",
   "execution_count": null,
   "metadata": {},
   "outputs": [
    {
     "data": {
      "text/plain": [
       "<Figure size 640x480 with 0 Axes>"
      ]
     },
     "metadata": {},
     "output_type": "display_data"
    }
   ],
   "source": [
    "buf = io.BytesIO()\n",
    "plt.savefig(buf, format='png')\n",
    "buf.seek(0)\n",
    "image = Image.open(buf)\n",
    "image = image.convert(\"RGB\")\n",
    "image = np.array(image)"
   ]
  },
  {
   "cell_type": "code",
   "execution_count": null,
   "metadata": {},
   "outputs": [
    {
     "ename": "AssertionError",
     "evalue": "size of input tensor and input format are different.         tensor shape: (480, 640), input_format: CHW",
     "output_type": "error",
     "traceback": [
      "\u001b[0;31m---------------------------------------------------------------------------\u001b[0m",
      "\u001b[0;31mAssertionError\u001b[0m                            Traceback (most recent call last)",
      "Cell \u001b[0;32mIn[79], line 7\u001b[0m\n\u001b[1;32m      4\u001b[0m writer \u001b[38;5;241m=\u001b[39m SummaryWriter(\u001b[38;5;124m'\u001b[39m\u001b[38;5;124mruns/matplotlib_example\u001b[39m\u001b[38;5;124m'\u001b[39m)\n\u001b[1;32m      6\u001b[0m \u001b[38;5;66;03m# Add the image to TensorBoard\u001b[39;00m\n\u001b[0;32m----> 7\u001b[0m \u001b[43mwriter\u001b[49m\u001b[38;5;241;43m.\u001b[39;49m\u001b[43madd_image\u001b[49m\u001b[43m(\u001b[49m\u001b[38;5;124;43m'\u001b[39;49m\u001b[38;5;124;43mSine_Wave_Plot\u001b[39;49m\u001b[38;5;124;43m'\u001b[39;49m\u001b[43m,\u001b[49m\u001b[43m \u001b[49m\u001b[43mimage_tensor\u001b[49m\u001b[43m[\u001b[49m\u001b[38;5;241;43m0\u001b[39;49m\u001b[43m]\u001b[49m\u001b[43m)\u001b[49m\n\u001b[1;32m      9\u001b[0m \u001b[38;5;66;03m# Close the writer\u001b[39;00m\n\u001b[1;32m     10\u001b[0m writer\u001b[38;5;241m.\u001b[39mclose()\n",
      "File \u001b[0;32m~/.local/lib/python3.10/site-packages/torch/utils/tensorboard/writer.py:656\u001b[0m, in \u001b[0;36mSummaryWriter.add_image\u001b[0;34m(self, tag, img_tensor, global_step, walltime, dataformats)\u001b[0m\n\u001b[1;32m    652\u001b[0m     \u001b[38;5;28;01mfrom\u001b[39;00m \u001b[38;5;21;01mcaffe2\u001b[39;00m\u001b[38;5;21;01m.\u001b[39;00m\u001b[38;5;21;01mpython\u001b[39;00m \u001b[38;5;28;01mimport\u001b[39;00m workspace\n\u001b[1;32m    654\u001b[0m     img_tensor \u001b[38;5;241m=\u001b[39m workspace\u001b[38;5;241m.\u001b[39mFetchBlob(img_tensor)\n\u001b[1;32m    655\u001b[0m \u001b[38;5;28mself\u001b[39m\u001b[38;5;241m.\u001b[39m_get_file_writer()\u001b[38;5;241m.\u001b[39madd_summary(\n\u001b[0;32m--> 656\u001b[0m     \u001b[43mimage\u001b[49m\u001b[43m(\u001b[49m\u001b[43mtag\u001b[49m\u001b[43m,\u001b[49m\u001b[43m \u001b[49m\u001b[43mimg_tensor\u001b[49m\u001b[43m,\u001b[49m\u001b[43m \u001b[49m\u001b[43mdataformats\u001b[49m\u001b[38;5;241;43m=\u001b[39;49m\u001b[43mdataformats\u001b[49m\u001b[43m)\u001b[49m, global_step, walltime\n\u001b[1;32m    657\u001b[0m )\n",
      "File \u001b[0;32m~/.local/lib/python3.10/site-packages/torch/utils/tensorboard/summary.py:570\u001b[0m, in \u001b[0;36mimage\u001b[0;34m(tag, tensor, rescale, dataformats)\u001b[0m\n\u001b[1;32m    543\u001b[0m \u001b[38;5;250m\u001b[39m\u001b[38;5;124;03m\"\"\"Output a `Summary` protocol buffer with images.\u001b[39;00m\n\u001b[1;32m    544\u001b[0m \n\u001b[1;32m    545\u001b[0m \u001b[38;5;124;03mThe summary has up to `max_images` summary values containing images. The\u001b[39;00m\n\u001b[0;32m   (...)\u001b[0m\n\u001b[1;32m    567\u001b[0m \u001b[38;5;124;03m  buffer.\u001b[39;00m\n\u001b[1;32m    568\u001b[0m \u001b[38;5;124;03m\"\"\"\u001b[39;00m\n\u001b[1;32m    569\u001b[0m tensor \u001b[38;5;241m=\u001b[39m make_np(tensor)\n\u001b[0;32m--> 570\u001b[0m tensor \u001b[38;5;241m=\u001b[39m \u001b[43mconvert_to_HWC\u001b[49m\u001b[43m(\u001b[49m\u001b[43mtensor\u001b[49m\u001b[43m,\u001b[49m\u001b[43m \u001b[49m\u001b[43mdataformats\u001b[49m\u001b[43m)\u001b[49m\n\u001b[1;32m    571\u001b[0m \u001b[38;5;66;03m# Do not assume that user passes in values in [0, 255], use data type to detect\u001b[39;00m\n\u001b[1;32m    572\u001b[0m scale_factor \u001b[38;5;241m=\u001b[39m _calc_scale_factor(tensor)\n",
      "File \u001b[0;32m~/.local/lib/python3.10/site-packages/torch/utils/tensorboard/_utils.py:102\u001b[0m, in \u001b[0;36mconvert_to_HWC\u001b[0;34m(tensor, input_format)\u001b[0m\n\u001b[1;32m     98\u001b[0m \u001b[38;5;28;01mdef\u001b[39;00m \u001b[38;5;21mconvert_to_HWC\u001b[39m(tensor, input_format):  \u001b[38;5;66;03m# tensor: numpy array\u001b[39;00m\n\u001b[1;32m     99\u001b[0m     \u001b[38;5;28;01massert\u001b[39;00m \u001b[38;5;28mlen\u001b[39m(\u001b[38;5;28mset\u001b[39m(input_format)) \u001b[38;5;241m==\u001b[39m \u001b[38;5;28mlen\u001b[39m(\n\u001b[1;32m    100\u001b[0m         input_format\n\u001b[1;32m    101\u001b[0m     ), \u001b[38;5;124mf\u001b[39m\u001b[38;5;124m\"\u001b[39m\u001b[38;5;124mYou can not use the same dimension shordhand twice.         input_format: \u001b[39m\u001b[38;5;132;01m{\u001b[39;00minput_format\u001b[38;5;132;01m}\u001b[39;00m\u001b[38;5;124m\"\u001b[39m\n\u001b[0;32m--> 102\u001b[0m     \u001b[38;5;28;01massert\u001b[39;00m \u001b[38;5;28mlen\u001b[39m(tensor\u001b[38;5;241m.\u001b[39mshape) \u001b[38;5;241m==\u001b[39m \u001b[38;5;28mlen\u001b[39m(\n\u001b[1;32m    103\u001b[0m         input_format\n\u001b[1;32m    104\u001b[0m     ), \u001b[38;5;124mf\u001b[39m\u001b[38;5;124m\"\u001b[39m\u001b[38;5;124msize of input tensor and input format are different. \u001b[39m\u001b[38;5;130;01m\\\u001b[39;00m\n\u001b[1;32m    105\u001b[0m \u001b[38;5;124m        tensor shape: \u001b[39m\u001b[38;5;132;01m{\u001b[39;00mtensor\u001b[38;5;241m.\u001b[39mshape\u001b[38;5;132;01m}\u001b[39;00m\u001b[38;5;124m, input_format: \u001b[39m\u001b[38;5;132;01m{\u001b[39;00minput_format\u001b[38;5;132;01m}\u001b[39;00m\u001b[38;5;124m\"\u001b[39m\n\u001b[1;32m    106\u001b[0m     input_format \u001b[38;5;241m=\u001b[39m input_format\u001b[38;5;241m.\u001b[39mupper()\n\u001b[1;32m    108\u001b[0m     \u001b[38;5;28;01mif\u001b[39;00m \u001b[38;5;28mlen\u001b[39m(input_format) \u001b[38;5;241m==\u001b[39m \u001b[38;5;241m4\u001b[39m:\n",
      "\u001b[0;31mAssertionError\u001b[0m: size of input tensor and input format are different.         tensor shape: (480, 640), input_format: CHW"
     ]
    }
   ],
   "source": [
    "image_tensor = torch.tensor(image).permute(2, 0, 1)  # Convert to CxHxW format\n",
    "\n",
    "# Step 3: Log the image to TensorBoard\n",
    "writer = SummaryWriter('runs/matplotlib_example')\n",
    "\n",
    "# Add the image to TensorBoard\n",
    "writer.add_image('Sine_Wave_Plot', image_tensor)\n",
    "\n",
    "# Close the writer\n",
    "writer.close()"
   ]
  },
  {
   "cell_type": "code",
   "execution_count": 50,
   "metadata": {},
   "outputs": [
    {
     "data": {
      "text/plain": [
       "tensor([1])"
      ]
     },
     "execution_count": 50,
     "metadata": {},
     "output_type": "execute_result"
    }
   ],
   "source": [
    "a = torch.tensor([1])\n",
    "a"
   ]
  },
  {
   "cell_type": "code",
   "execution_count": 51,
   "metadata": {},
   "outputs": [
    {
     "data": {
      "text/plain": [
       "tensor([2])"
      ]
     },
     "execution_count": 51,
     "metadata": {},
     "output_type": "execute_result"
    }
   ],
   "source": [
    "a + 1"
   ]
  },
  {
   "cell_type": "code",
   "execution_count": null,
   "metadata": {},
   "outputs": [],
   "source": []
  }
 ],
 "metadata": {
  "kernelspec": {
   "display_name": "Python 3",
   "language": "python",
   "name": "python3"
  },
  "language_info": {
   "codemirror_mode": {
    "name": "ipython",
    "version": 3
   },
   "file_extension": ".py",
   "mimetype": "text/x-python",
   "name": "python",
   "nbconvert_exporter": "python",
   "pygments_lexer": "ipython3",
   "version": "3.10.12"
  }
 },
 "nbformat": 4,
 "nbformat_minor": 2
}
