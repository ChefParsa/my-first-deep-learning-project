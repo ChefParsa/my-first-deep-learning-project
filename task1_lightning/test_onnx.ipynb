{
 "cells": [
  {
   "cell_type": "code",
   "execution_count": 51,
   "metadata": {},
   "outputs": [],
   "source": [
    "import onnx\n",
    "import onnxruntime\n",
    "from torchvision.io import read_image\n",
    "from torchvision.transforms import transforms\n",
    "import numpy as np"
   ]
  },
  {
   "cell_type": "code",
   "execution_count": 52,
   "metadata": {},
   "outputs": [
    {
     "data": {
      "text/plain": [
       "torch.Size([1, 1, 64, 64])"
      ]
     },
     "execution_count": 52,
     "metadata": {},
     "output_type": "execute_result"
    }
   ],
   "source": [
    "img = read_image(\"../QR_d_best/1_1_A_12.jpg\")\n",
    "img = img.float()\n",
    "img = img / 255.0\n",
    "transform = transforms.Resize((64, 64))\n",
    "img = transform(img)\n",
    "img = img.unsqueeze(0)\n",
    "img.shape"
   ]
  },
  {
   "cell_type": "code",
   "execution_count": 53,
   "metadata": {},
   "outputs": [
    {
     "data": {
      "text/plain": [
       "array([[[[0.753 , 0.745 , 0.745 , ..., 0.8823, 0.8667, 0.8394],\n",
       "         [0.7373, 0.757 , 0.741 , ..., 0.886 , 0.8784, 0.8784],\n",
       "         [0.745 , 0.7646, 0.7373, ..., 0.9253, 0.906 , 0.906 ],\n",
       "         ...,\n",
       "         [0.745 , 0.749 , 0.749 , ..., 0.749 , 0.7334, 0.757 ],\n",
       "         [0.753 , 0.745 , 0.745 , ..., 0.796 , 0.749 , 0.749 ],\n",
       "         [0.749 , 0.749 , 0.749 , ..., 0.784 , 0.749 , 0.749 ]]]],\n",
       "      dtype=float16)"
      ]
     },
     "execution_count": 53,
     "metadata": {},
     "output_type": "execute_result"
    }
   ],
   "source": [
    "img = img.numpy()\n",
    "img.shape\n",
    "img.astype(np.float16)\n",
    "# type(a)"
   ]
  },
  {
   "cell_type": "code",
   "execution_count": 21,
   "metadata": {},
   "outputs": [
    {
     "data": {
      "image/png": "[encoded data removed]",
      "text/plain": [
       "<Figure size 640x480 with 1 Axes>"
      ]
     },
     "metadata": {},
     "output_type": "display_data"
    }
   ],
   "source": [
    "import matplotlib.pyplot as plt\n",
    "\n",
    "plt.imshow(img.squeeze(0, 1), cmap=\"gray\")\n",
    "plt.show()"
   ]
  },
  {
   "cell_type": "code",
   "execution_count": 48,
   "metadata": {},
   "outputs": [],
   "source": [
    "img = np.repeat(img, 10, axis=0) "
   ]
  },
  {
   "cell_type": "code",
   "execution_count": 54,
   "metadata": {},
   "outputs": [
    {
     "ename": "InvalidArgument",
     "evalue": "[ONNXRuntimeError] : 2 : INVALID_ARGUMENT : Got invalid dimensions for input: input.1 for the following indices\n index: 0 Got: 1 Expected: 10\n Please fix either the inputs/outputs or the model.",
     "output_type": "error",
     "traceback": [
      "\u001b[0;31m---------------------------------------------------------------------------\u001b[0m",
      "\u001b[0;31mInvalidArgument\u001b[0m                           Traceback (most recent call last)",
      "Cell \u001b[0;32mIn[54], line 4\u001b[0m\n\u001b[1;32m      2\u001b[0m input_name \u001b[38;5;241m=\u001b[39m ort_session\u001b[38;5;241m.\u001b[39mget_inputs()[\u001b[38;5;241m0\u001b[39m]\u001b[38;5;241m.\u001b[39mname\n\u001b[1;32m      3\u001b[0m ort_inputs \u001b[38;5;241m=\u001b[39m {input_name: img}\n\u001b[0;32m----> 4\u001b[0m ort_outs \u001b[38;5;241m=\u001b[39m \u001b[43mort_session\u001b[49m\u001b[38;5;241;43m.\u001b[39;49m\u001b[43mrun\u001b[49m\u001b[43m(\u001b[49m\u001b[38;5;28;43;01mNone\u001b[39;49;00m\u001b[43m,\u001b[49m\u001b[43m \u001b[49m\u001b[43mort_inputs\u001b[49m\u001b[43m)\u001b[49m\n\u001b[1;32m      5\u001b[0m \u001b[38;5;28mprint\u001b[39m(ort_outs)\n\u001b[1;32m      6\u001b[0m \u001b[38;5;124;03m\"\"\" input_info = ort_session.get_inputs()[0]\u001b[39;00m\n\u001b[1;32m      7\u001b[0m \u001b[38;5;124;03mprint(\"Input name:\", input_info.name)\u001b[39;00m\n\u001b[1;32m      8\u001b[0m \u001b[38;5;124;03mprint(\"Input shape:\", input_info.shape)\u001b[39;00m\n\u001b[1;32m      9\u001b[0m \u001b[38;5;124;03mprint(\"Input type:\", input_info.type) \"\"\"\u001b[39;00m\n",
      "File \u001b[0;32m~/.local/lib/python3.10/site-packages/onnxruntime/capi/onnxruntime_inference_collection.py:220\u001b[0m, in \u001b[0;36mSession.run\u001b[0;34m(self, output_names, input_feed, run_options)\u001b[0m\n\u001b[1;32m    218\u001b[0m     output_names \u001b[38;5;241m=\u001b[39m [output\u001b[38;5;241m.\u001b[39mname \u001b[38;5;28;01mfor\u001b[39;00m output \u001b[38;5;129;01min\u001b[39;00m \u001b[38;5;28mself\u001b[39m\u001b[38;5;241m.\u001b[39m_outputs_meta]\n\u001b[1;32m    219\u001b[0m \u001b[38;5;28;01mtry\u001b[39;00m:\n\u001b[0;32m--> 220\u001b[0m     \u001b[38;5;28;01mreturn\u001b[39;00m \u001b[38;5;28;43mself\u001b[39;49m\u001b[38;5;241;43m.\u001b[39;49m\u001b[43m_sess\u001b[49m\u001b[38;5;241;43m.\u001b[39;49m\u001b[43mrun\u001b[49m\u001b[43m(\u001b[49m\u001b[43moutput_names\u001b[49m\u001b[43m,\u001b[49m\u001b[43m \u001b[49m\u001b[43minput_feed\u001b[49m\u001b[43m,\u001b[49m\u001b[43m \u001b[49m\u001b[43mrun_options\u001b[49m\u001b[43m)\u001b[49m\n\u001b[1;32m    221\u001b[0m \u001b[38;5;28;01mexcept\u001b[39;00m C\u001b[38;5;241m.\u001b[39mEPFail \u001b[38;5;28;01mas\u001b[39;00m err:\n\u001b[1;32m    222\u001b[0m     \u001b[38;5;28;01mif\u001b[39;00m \u001b[38;5;28mself\u001b[39m\u001b[38;5;241m.\u001b[39m_enable_fallback:\n",
      "\u001b[0;31mInvalidArgument\u001b[0m: [ONNXRuntimeError] : 2 : INVALID_ARGUMENT : Got invalid dimensions for input: input.1 for the following indices\n index: 0 Got: 1 Expected: 10\n Please fix either the inputs/outputs or the model."
     ]
    }
   ],
   "source": [
    "ort_session = onnxruntime.InferenceSession(\"model.onnx\")\n",
    "input_name = ort_session.get_inputs()[0].name\n",
    "ort_inputs = {input_name: img}\n",
    "ort_outs = ort_session.run(None, ort_inputs)\n",
    "print(ort_outs)\n",
    "\"\"\" input_info = ort_session.get_inputs()[0]\n",
    "print(\"Input name:\", input_info.name)\n",
    "print(\"Input shape:\", input_info.shape)\n",
    "print(\"Input type:\", input_info.type) \"\"\""
   ]
  },
  {
   "cell_type": "code",
   "execution_count": 61,
   "metadata": {},
   "outputs": [],
   "source": [
    "import lightning as L\n",
    "import torchmetrics\n",
    "import torch.nn as nn\n",
    "import torch.optim as optim\n",
    "import torch\n",
    "import torch.nn.functional as F"
   ]
  },
  {
   "cell_type": "code",
   "execution_count": 62,
   "metadata": {},
   "outputs": [],
   "source": [
    "class Net(L.LightningModule):\n",
    "    def __init__(self):\n",
    "        super().__init__()\n",
    "        self.save_hyperparameters()\n",
    "        self.conv1 = nn.Conv2d(1, 32, 7)\n",
    "        self.conv2 = nn.Conv2d(32, 64, 5)\n",
    "        self.conv3 = nn.Conv2d(64, 128, 5)\n",
    "        self.conv4 = nn.Conv2d(128, 256, 3)\n",
    "        \n",
    "        x = torch.randn((1, 64, 64))\n",
    "        self._to_linear = None\n",
    "        \n",
    "        self.convs(x)\n",
    "        \n",
    "        self.fc1 = nn.Linear(self._to_linear, 256)\n",
    "        self.fc2 = nn.Linear(256, 4)\n",
    "        \n",
    "        self.loss_function = nn.CrossEntropyLoss()\n",
    "        self.accuracy = torchmetrics.Accuracy('multiclass', num_classes=4)\n",
    "        self.f1_score = torchmetrics.F1Score('multiclass', num_classes=4)\n",
    "        \n",
    "    def convs(self, x):\n",
    "        x = F.max_pool2d(F.relu(self.conv1(x)), (2, 2))\n",
    "        x = F.max_pool2d(F.relu(self.conv2(x)), (2, 2))\n",
    "        x = F.max_pool2d(F.relu(self.conv3(x)), (2, 2))\n",
    "        x = F.max_pool2d(F.relu(self.conv4(x)), (2, 2))\n",
    "        if self._to_linear is None:\n",
    "            self._to_linear = x.shape[0] * x.shape[1] * x.shape[2]\n",
    "            \n",
    "        return x\n",
    "    \n",
    "    def forward(self, x):\n",
    "        x = self.convs(x)\n",
    "        x = x.view(-1, self._to_linear)\n",
    "        x = F.relu(self.fc1(x))\n",
    "        x = self.fc2(x)\n",
    "        \n",
    "        return x\n",
    "    \n",
    "    def _common_step(self, batch, batch_idx):\n",
    "        x, y = batch\n",
    "        x = x.view(x.size(0), 1, 64, 64)\n",
    "        output = self.forward(x)\n",
    "        loss = self.loss_function(output, y)\n",
    "        preds = torch.argmax(output, dim=1)\n",
    "        return loss, preds, y\n",
    "    \n",
    "    def training_step(self, batch, batch_idx):\n",
    "        loss, preds, y = self._common_step(batch, batch_idx)\n",
    "        y = torch.argmax(y, dim=1)\n",
    "        train_accuracy = self.accuracy(preds, y)\n",
    "        train_f1_score = self.f1_score(preds, y)\n",
    "        self.log_dict({'train_loss': loss, 'train_accuracy': train_accuracy, 'train_f1_score': train_f1_score},\n",
    "                      prog_bar=True, on_step=False, on_epoch=True)\n",
    "        return loss\n",
    "    \n",
    "    def validation_step(self, batch, batch_idx):\n",
    "        loss, preds, y = self._common_step(batch, batch_idx)\n",
    "        y = torch.argmax(y, dim=1)\n",
    "        val_accuracy = self.accuracy(preds, y)\n",
    "        val_f1_score = self.f1_score(preds, y)\n",
    "        self.log_dict({\"val_loss\": loss, \"val_accuracy\": val_accuracy, \"val_f1_score\": val_f1_score},\n",
    "                      prog_bar=True, on_epoch=True, on_step=False)\n",
    "        return loss\n",
    "    \n",
    "    def test_step(self, batch, batch_idx):\n",
    "        loss, scores, y = self._common_step(batch, batch_idx)\n",
    "        self.log('test_loss', loss)\n",
    "        return loss\n",
    "    \n",
    "    def predict_step(self, batch, batch_idx):\n",
    "        x, y = batch\n",
    "        x = x.view(x.size(0), 1, 64, 64)\n",
    "        scores = self.forward(x)\n",
    "        preds = torch.argmax(scores, dim=1)\n",
    "        return preds\n",
    "    \n",
    "    def configure_optimizers(self):\n",
    "        return optim.Adam(self.parameters(), lr=0.001)\n",
    "        "
   ]
  },
  {
   "cell_type": "code",
   "execution_count": 65,
   "metadata": {},
   "outputs": [],
   "source": [
    "model = Net.load_from_checkpoint(\"checkpoint/QR_d_best-epoch=epoch=14-val_loss+val_loss=0.01.ckpt\", map_location=torch.device(\"cuda\"))"
   ]
  },
  {
   "cell_type": "code",
   "execution_count": 66,
   "metadata": {},
   "outputs": [],
   "source": [
    "import torch.onnx"
   ]
  },
  {
   "cell_type": "code",
   "execution_count": 67,
   "metadata": {},
   "outputs": [
    {
     "data": {
      "text/plain": [
       "Net(\n",
       "  (conv1): Conv2d(1, 32, kernel_size=(7, 7), stride=(1, 1))\n",
       "  (conv2): Conv2d(32, 64, kernel_size=(5, 5), stride=(1, 1))\n",
       "  (conv3): Conv2d(64, 128, kernel_size=(5, 5), stride=(1, 1))\n",
       "  (conv4): Conv2d(128, 256, kernel_size=(3, 3), stride=(1, 1))\n",
       "  (fc1): Linear(in_features=256, out_features=256, bias=True)\n",
       "  (fc2): Linear(in_features=256, out_features=4, bias=True)\n",
       "  (loss_function): CrossEntropyLoss()\n",
       "  (accuracy): MulticlassAccuracy()\n",
       "  (f1_score): MulticlassF1Score()\n",
       ")"
      ]
     },
     "execution_count": 67,
     "metadata": {},
     "output_type": "execute_result"
    }
   ],
   "source": [
    "model.eval()"
   ]
  },
  {
   "cell_type": "code",
   "execution_count": 89,
   "metadata": {},
   "outputs": [],
   "source": [
    "example_input = torch.randn(1, 1, 64, 64).to(\"cuda\")"
   ]
  },
  {
   "cell_type": "code",
   "execution_count": 90,
   "metadata": {},
   "outputs": [],
   "source": [
    "torch.onnx.export(model, example_input, \"model2.onnx\", input_names=['input'], \n",
    "                  output_names=['output'])"
   ]
  },
  {
   "cell_type": "code",
   "execution_count": 91,
   "metadata": {},
   "outputs": [
    {
     "data": {
      "text/plain": [
       "torch.Size([1, 1, 64, 64])"
      ]
     },
     "execution_count": 91,
     "metadata": {},
     "output_type": "execute_result"
    }
   ],
   "source": [
    "img = read_image(\"../QR_d_best/1_1_A_12.jpg\")\n",
    "img = img.float()\n",
    "img = img / 255.0\n",
    "transform = transforms.Resize((64, 64))\n",
    "img = transform(img)\n",
    "img = img.unsqueeze(0)\n",
    "img.shape"
   ]
  },
  {
   "cell_type": "code",
   "execution_count": 92,
   "metadata": {},
   "outputs": [
    {
     "data": {
      "text/plain": [
       "array([[[[0.753 , 0.745 , 0.745 , ..., 0.8823, 0.8667, 0.8394],\n",
       "         [0.7373, 0.757 , 0.741 , ..., 0.886 , 0.8784, 0.8784],\n",
       "         [0.745 , 0.7646, 0.7373, ..., 0.9253, 0.906 , 0.906 ],\n",
       "         ...,\n",
       "         [0.745 , 0.749 , 0.749 , ..., 0.749 , 0.7334, 0.757 ],\n",
       "         [0.753 , 0.745 , 0.745 , ..., 0.796 , 0.749 , 0.749 ],\n",
       "         [0.749 , 0.749 , 0.749 , ..., 0.784 , 0.749 , 0.749 ]]]],\n",
       "      dtype=float16)"
      ]
     },
     "execution_count": 92,
     "metadata": {},
     "output_type": "execute_result"
    }
   ],
   "source": [
    "img = img.numpy()\n",
    "img.shape\n",
    "img.astype(np.float16)\n",
    "# type(a)"
   ]
  },
  {
   "cell_type": "code",
   "execution_count": 93,
   "metadata": {},
   "outputs": [
    {
     "name": "stdout",
     "output_type": "stream",
     "text": [
      "[array([[-2.2631612, -3.3856773, -3.914068 ,  5.0591774]], dtype=float32)]\n"
     ]
    }
   ],
   "source": [
    "ort_session = onnxruntime.InferenceSession(\"model2.onnx\")\n",
    "input_name = ort_session.get_inputs()[0].name\n",
    "ort_inputs = {input_name: img}\n",
    "ort_outs = ort_session.run(None, ort_inputs)\n",
    "print(ort_outs)"
   ]
  }
 ],
 "metadata": {
  "kernelspec": {
   "display_name": "Python 3",
   "language": "python",
   "name": "python3"
  },
  "language_info": {
   "codemirror_mode": {
    "name": "ipython",
    "version": 3
   },
   "file_extension": ".py",
   "mimetype": "text/x-python",
   "name": "python",
   "nbconvert_exporter": "python",
   "pygments_lexer": "ipython3",
   "version": "3.10.12"
  }
 },
 "nbformat": 4,
 "nbformat_minor": 2
}
