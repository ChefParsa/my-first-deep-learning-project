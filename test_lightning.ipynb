{
 "cells": [
  {
   "cell_type": "code",
   "execution_count": 2,
   "metadata": {},
   "outputs": [],
   "source": [
    "import torch\n",
    "import torch.nn as nn\n",
    "import torch.nn.functional as F\n",
    "import torch.optim as optim\n",
    "from torch.utils.data import DataLoader, Dataset, random_split\n",
    "from torch.utils.tensorboard import SummaryWriter\n",
    "import lightning as L\n",
    "import augmentation\n",
    "import torchmetrics\n",
    "from torchmetrics import metric\n",
    "from lightning.pytorch.callbacks.early_stopping import EarlyStopping\n",
    "# Timm \n",
    "\n",
    "import os\n",
    "from torchvision.io import read_image\n",
    "from torchvision.transforms import transforms\n",
    "from lightning.pytorch.loggers import TensorBoardLogger"
   ]
  },
  {
   "cell_type": "code",
   "execution_count": 4,
   "metadata": {},
   "outputs": [],
   "source": [
    "class pre_process_data(Dataset):\n",
    "    def __init__(self, images_dir, img_transforms=None, target_transforms=None):\n",
    "        self.images_dir = images_dir\n",
    "        self.img_transforms = img_transforms\n",
    "        self.target_transforms = target_transforms\n",
    "        self.img_labels = os.listdir(self.images_dir)\n",
    "        \n",
    "       \n",
    "    def __len__(self):\n",
    "        return len(self.img_labels)\n",
    "    \n",
    "    def __getitem__(self, idx):\n",
    "        img_path = os.path.join(self.images_dir, self.img_labels[idx])\n",
    "        image = read_image(img_path)\n",
    "        image = image.float()\n",
    "        image = image / 255.0\n",
    "        label = self.calculate_label(self.img_labels[idx])\n",
    "        #print(self.img_labels[idx])\n",
    "       \n",
    "        if self.img_transforms:\n",
    "            image = self.img_transforms(image)\n",
    "        if self.target_transforms:\n",
    "            label = self.target_transforms(label)\n",
    "        \n",
    "        return image, label\n",
    "        \n",
    "    def calculate_mean_std(self, dataloader):\n",
    "        mean = 0.0\n",
    "        std = 0.0\n",
    "        total_images_count = 0\n",
    "\n",
    "        for images, _ in dataloader:\n",
    "            batch_samples = images.size(0)  # Number of images in the batch\n",
    "            total_images_count += batch_samples\n",
    "            \n",
    "            images = images.view(batch_samples, images.size(1), -1)  # Flatten the image pixels\n",
    "            mean += images.float().mean(2).sum(0)\n",
    "            std += images.float().std(2).sum(0)\n",
    "\n",
    "        mean /= total_images_count\n",
    "        std /= total_images_count\n",
    "\n",
    "        return mean.item(), std.item()\n",
    "\n",
    "    \n",
    "    def calculate_label(self, img_basename):\n",
    "        tmp = img_basename[:len(img_basename)-4].split(\"_\")\n",
    "        row = tmp[2]\n",
    "        rod_id = int(tmp[3])\n",
    "        if row in {\"A\", \"B\", \"E\", \"F\", \"I\", \"J\"}:\n",
    "            label = 4-(rod_id % 4)\n",
    "        else:\n",
    "            label = (rod_id % 4)+1\n",
    "        return label"
   ]
  },
  {
   "cell_type": "code",
   "execution_count": null,
   "metadata": {},
   "outputs": [],
   "source": [
    "dataset_transform = transforms.Compose([\n",
    "    transforms.Resize((64, 64)),\n",
    "    #transforms.ToTensor(),\n",
    "])"
   ]
  },
  {
   "cell_type": "code",
   "execution_count": null,
   "metadata": {},
   "outputs": [],
   "source": [
    "dataset =pre_process_data(images_dir=\"QR_d_best\",img_transforms=dataset_transform)"
   ]
  },
  {
   "cell_type": "code",
   "execution_count": null,
   "metadata": {},
   "outputs": [],
   "source": [
    "dataloader = DataLoader(dataset, batch_size=32, num_workers=4)"
   ]
  },
  {
   "cell_type": "code",
   "execution_count": null,
   "metadata": {},
   "outputs": [],
   "source": [
    "mean, std = dataset.calculate_mean_std(dataloader)\n",
    "print(mean)\n",
    "print(std)\n",
    "mean = round(mean, 3)\n",
    "std = round(std, 3)\n",
    "print(mean)\n",
    "print(std)"
   ]
  },
  {
   "cell_type": "code",
   "execution_count": 5,
   "metadata": {},
   "outputs": [],
   "source": [
    "train_transform = transforms.Compose([\n",
    "    transforms.Resize((64, 64)),\n",
    "    #transforms.ToTensor(),\n",
    "    transforms.RandomHorizontalFlip(),  # Randomly flip images horizontally\n",
    "    transforms.RandomRotation(15),\n",
    "    transforms.ColorJitter(brightness=0.2, contrast=0.2, saturation=0.2, hue=0.2),\n",
    "    transforms.Normalize(mean=[0.5], std = [0.5])\n",
    "])\n",
    "\n",
    "test_transform = transforms.Compose([\n",
    "    transforms.Resize((64, 64)),\n",
    "    transforms.Normalize(mean=[0.5], std=[0.5])\n",
    "])\n",
    "\n",
    "def target_transform(label):\n",
    "    one_hot = torch.zeros((4))\n",
    "    one_hot[label - 1] = 1.0\n",
    "    return one_hot"
   ]
  },
  {
   "cell_type": "code",
   "execution_count": 6,
   "metadata": {},
   "outputs": [],
   "source": [
    "class light_pre_process_data(L.LightningDataModule):\n",
    "    def __init__(self, img_dir, train_transforms=None, val_transforms=None, target_transforms=None,batch_size=32):\n",
    "        super().__init__()\n",
    "        self.img_dir = img_dir\n",
    "        self.train_transforms= train_transforms\n",
    "        self.val_transforms = val_transforms\n",
    "        self.target_transforms = target_transforms\n",
    "        self.batch_size = batch_size\n",
    "        \n",
    "    def setup(self, stage: str):\n",
    "        if stage == 'fit':\n",
    "            self.full_dataset = pre_process_data(self.img_dir)\n",
    "            self.train_size = int( 0.9 * len(self.full_dataset))\n",
    "            self.val_size = len(self.full_dataset) - self.train_size\n",
    "            self.train_dataset, self.val_dataset = random_split(self.full_dataset, [self.train_size, self.val_size],torch.Generator().manual_seed(50))\n",
    "            self.train_dataset.dataset.img_transforms = self.train_transforms\n",
    "            self.train_dataset.dataset.target_transforms = self.target_transforms\n",
    "            self.val_dataset.dataset.img_transforms = self.val_transforms\n",
    "            self.val_dataset.dataset.target_transforms = self.target_transforms\n",
    "            \n",
    "    def train_dataloader(self):\n",
    "        return DataLoader(self.train_dataset, batch_size=self.batch_size, shuffle=True, num_workers=4)\n",
    "    \n",
    "    def val_dataloader(self):\n",
    "        return DataLoader(self.val_dataset, batch_size=self.batch_size, shuffle=False, num_workers=4)\n",
    "            \n",
    "        "
   ]
  },
  {
   "cell_type": "code",
   "execution_count": 7,
   "metadata": {},
   "outputs": [],
   "source": [
    "dm = light_pre_process_data(\"QR_d_best\", train_transforms=train_transform, val_transforms=test_transform,\n",
    "                            target_transforms=target_transform, batch_size=32)"
   ]
  },
  {
   "cell_type": "code",
   "execution_count": 2,
   "metadata": {},
   "outputs": [],
   "source": [
    "train_size, test_size, train_loader, test_loader = augmentation.dataloader_preparation()"
   ]
  },
  {
   "cell_type": "code",
   "execution_count": 4,
   "metadata": {},
   "outputs": [],
   "source": [
    "class Net(L.LightningModule):\n",
    "    def __init__(self):\n",
    "        super().__init__()\n",
    "        self.save_hyperparameters()\n",
    "        self.conv1 = nn.Conv2d(1, 32, 7)\n",
    "        self.conv2 = nn.Conv2d(32, 64, 5)\n",
    "        self.conv3 = nn.Conv2d(64, 128, 5)\n",
    "        self.conv4 = nn.Conv2d(128, 256, 3)\n",
    "        \n",
    "        x = torch.randn((1, 64, 64))\n",
    "        self._to_linear = None\n",
    "        \n",
    "        self.convs(x)\n",
    "        \n",
    "        self.fc1 = nn.Linear(self._to_linear, 256)\n",
    "        self.fc2 = nn.Linear(256, 4)\n",
    "        \n",
    "        self.loss_function = nn.CrossEntropyLoss()\n",
    "        self.accuracy = torchmetrics.Accuracy('multiclass', num_classes=4)\n",
    "        self.f1_score = torchmetrics.F1Score('multiclass', num_classes=4)\n",
    "        \n",
    "    def convs(self, x):\n",
    "        x = F.max_pool2d(F.relu(self.conv1(x)), (2, 2))\n",
    "        x = F.max_pool2d(F.relu(self.conv2(x)), (2, 2))\n",
    "        x = F.max_pool2d(F.relu(self.conv3(x)), (2, 2))\n",
    "        x = F.max_pool2d(F.relu(self.conv4(x)), (2, 2))\n",
    "        if self._to_linear is None:\n",
    "            self._to_linear = x.shape[0] * x.shape[1] * x.shape[2]\n",
    "            \n",
    "        return x\n",
    "    \n",
    "    def forward(self, x):\n",
    "        x = self.convs(x)\n",
    "        x = x.view(-1, self._to_linear)\n",
    "        x = F.relu(self.fc1(x))\n",
    "        x = self.fc2(x)\n",
    "        \n",
    "        return x\n",
    "    \n",
    "    def _common_step(self, batch, batch_idx):\n",
    "        x, y = batch\n",
    "        x = x.view(x.size(0), 1, 64, 64)\n",
    "        output = self.forward(x)\n",
    "        loss = self.loss_function(output, y)\n",
    "        preds = torch.argmax(output, dim=1)\n",
    "        return loss, preds, y\n",
    "    \n",
    "    def training_step(self, batch, batch_idx):\n",
    "        loss, preds, y = self._common_step(batch, batch_idx)\n",
    "        y = torch.argmax(y, dim=1)\n",
    "        train_accuracy = self.accuracy(preds, y)\n",
    "        train_f1_score = self.f1_score(preds, y)\n",
    "        self.log_dict({'train_loss': loss, 'train_accuracy': train_accuracy, 'train_f1_score': train_f1_score},\n",
    "                      prog_bar=True, on_step=False, on_epoch=True)\n",
    "        return loss\n",
    "    \n",
    "    def validation_step(self, batch, batch_idx):\n",
    "        loss, preds, y = self._common_step(batch, batch_idx)\n",
    "        y = torch.argmax(y, dim=1)\n",
    "        val_accuracy = self.accuracy(preds, y)\n",
    "        val_f1_score = self.f1_score(preds, y)\n",
    "        self.log_dict({\"val_loss\": loss, \"val_accuracy\": val_accuracy, \"val_f1_score\": val_f1_score},\n",
    "                      prog_bar=True, on_epoch=True, on_step=False)\n",
    "        return loss\n",
    "    \n",
    "    def test_step(self, batch, batch_idx):\n",
    "        loss, scores, y = self._common_step(batch, batch_idx)\n",
    "        self.log('test_loss', loss)\n",
    "        return loss\n",
    "    \n",
    "    def predict_step(self, batch, batch_idx):\n",
    "        x, y = batch\n",
    "        x = x.view(x.size(0), 1, 64, 64)\n",
    "        scores = self.forward(x)\n",
    "        preds = torch.argmax(scores, dim=1)\n",
    "        return preds\n",
    "    \n",
    "    def configure_optimizers(self):\n",
    "        return optim.Adam(self.parameters(), lr=0.001)\n",
    "        "
   ]
  },
  {
   "cell_type": "code",
   "execution_count": 9,
   "metadata": {},
   "outputs": [],
   "source": [
    "device = torch.device(\"cuda\" if torch.cuda.is_available() else \"cpu\")"
   ]
  },
  {
   "cell_type": "code",
   "execution_count": 10,
   "metadata": {},
   "outputs": [],
   "source": [
    "num_recognition = Net().to(device)"
   ]
  },
  {
   "cell_type": "code",
   "execution_count": 11,
   "metadata": {},
   "outputs": [
    {
     "name": "stderr",
     "output_type": "stream",
     "text": [
      "Seed set to 50\n"
     ]
    },
    {
     "data": {
      "text/plain": [
       "50"
      ]
     },
     "execution_count": 11,
     "metadata": {},
     "output_type": "execute_result"
    }
   ],
   "source": [
    "L.seed_everything(50)"
   ]
  },
  {
   "cell_type": "code",
   "execution_count": 12,
   "metadata": {},
   "outputs": [],
   "source": [
    "early_stop_callback = EarlyStopping(monitor='val_loss', min_delta=0.008, mode=\"min\", patience=9, verbose=True)"
   ]
  },
  {
   "cell_type": "code",
   "execution_count": 17,
   "metadata": {},
   "outputs": [],
   "source": [
    "from lightning.pytorch.callbacks import ModelCheckpoint\n",
    "\n",
    "# Define the checkpoint callback\n",
    "checkpoint_callback = ModelCheckpoint(\n",
    "    dirpath=\"checkpoints/\",  # Directory where checkpoints are saved\n",
    "    filename=\"my_model-{epoch:02d}-{val_loss:.2f}\",  # Naming pattern for checkpoints\n",
    "    save_top_k=1,  # Save the best checkpoint based on validation loss\n",
    "    monitor=\"val_loss\",  # Metric to monitor\n",
    "    mode=\"min\"  # Mode: 'min' for minimizing the monitored metric\n",
    ")\n"
   ]
  },
  {
   "cell_type": "code",
   "execution_count": 18,
   "metadata": {},
   "outputs": [
    {
     "name": "stderr",
     "output_type": "stream",
     "text": [
      "/home/parsa/.local/lib/python3.10/site-packages/lightning/fabric/connector.py:571: `precision=16` is supported for historical reasons but its usage is discouraged. Please set your precision to 16-mixed instead!\n",
      "Using 16bit Automatic Mixed Precision (AMP)\n",
      "GPU available: True (cuda), used: True\n",
      "TPU available: False, using: 0 TPU cores\n",
      "HPU available: False, using: 0 HPUs\n",
      "LOCAL_RANK: 0 - CUDA_VISIBLE_DEVICES: [0]\n",
      "\n",
      "  | Name          | Type               | Params | Mode \n",
      "-------------------------------------------------------------\n",
      "0 | conv1         | Conv2d             | 1.6 K  | train\n",
      "1 | conv2         | Conv2d             | 51.3 K | train\n",
      "2 | conv3         | Conv2d             | 204 K  | train\n",
      "3 | conv4         | Conv2d             | 295 K  | train\n",
      "4 | fc1           | Linear             | 65.8 K | train\n",
      "5 | fc2           | Linear             | 1.0 K  | train\n",
      "6 | loss_function | CrossEntropyLoss   | 0      | train\n",
      "7 | accuracy      | MulticlassAccuracy | 0      | train\n",
      "8 | f1_score      | MulticlassF1Score  | 0      | train\n",
      "-------------------------------------------------------------\n",
      "619 K     Trainable params\n",
      "0         Non-trainable params\n",
      "619 K     Total params\n",
      "2.479     Total estimated model params size (MB)\n",
      "9         Modules in train mode\n",
      "0         Modules in eval mode\n"
     ]
    },
    {
     "name": "stdout",
     "output_type": "stream",
     "text": [
      "Epoch 0: 100%|██████████| 122/122 [00:01<00:00, 77.30it/s, v_num=5, val_loss=0.0791, val_accuracy=0.993, val_f1_score=0.993, train_loss=0.0429, train_accuracy=0.989, train_f1_score=0.989]"
     ]
    },
    {
     "name": "stderr",
     "output_type": "stream",
     "text": [
      "Monitored metric val_loss did not improve in the last 10 records. Best score: 0.018. Signaling Trainer to stop.\n"
     ]
    },
    {
     "name": "stdout",
     "output_type": "stream",
     "text": [
      "Epoch 0: 100%|██████████| 122/122 [00:01<00:00, 76.05it/s, v_num=5, val_loss=0.0791, val_accuracy=0.993, val_f1_score=0.993, train_loss=0.0429, train_accuracy=0.989, train_f1_score=0.989]"
     ]
    },
    {
     "name": "stderr",
     "output_type": "stream",
     "text": [
      "LOCAL_RANK: 0 - CUDA_VISIBLE_DEVICES: [0]\n"
     ]
    },
    {
     "name": "stdout",
     "output_type": "stream",
     "text": [
      "\n",
      "Validation DataLoader 0: 100%|██████████| 14/14 [00:00<00:00, 157.74it/s]\n",
      "────────────────────────────────────────────────────────────────────────────────────────────────────────────────────────\n",
      "     Validate metric           DataLoader 0\n",
      "────────────────────────────────────────────────────────────────────────────────────────────────────────────────────────\n",
      "      val_accuracy          0.9930555820465088\n",
      "      val_f1_score          0.9930555820465088\n",
      "        val_loss            0.07907972484827042\n",
      "────────────────────────────────────────────────────────────────────────────────────────────────────────────────────────\n"
     ]
    },
    {
     "data": {
      "text/plain": [
       "[{'val_loss': 0.07907972484827042,\n",
       "  'val_accuracy': 0.9930555820465088,\n",
       "  'val_f1_score': 0.9930555820465088}]"
      ]
     },
     "execution_count": 18,
     "metadata": {},
     "output_type": "execute_result"
    }
   ],
   "source": [
    "trainer = L.Trainer(accelerator=\"gpu\", devices=[0], \n",
    "                    precision=16, limit_predict_batches=32, \n",
    "                    min_epochs=1, max_epochs=30, deterministic=True, callbacks=[early_stop_callback, checkpoint_callback])\n",
    "# trainer.fit(model = num_recognition, train_dataloaders=train_loader, val_dataloaders=test_loader)\n",
    "trainer.fit(model = num_recognition, datamodule=dm)\n",
    "# trainer.test(model = num_recognition, dataloaders=train_loader)\n",
    "trainer.validate(model = num_recognition, datamodule=dm)"
   ]
  },
  {
   "cell_type": "code",
   "execution_count": 5,
   "metadata": {},
   "outputs": [],
   "source": [
    "model = Net.load_from_checkpoint(\"checkpoints/my_model-epoch=00-val_loss=0.08.ckpt\")"
   ]
  },
  {
   "cell_type": "code",
   "execution_count": 6,
   "metadata": {},
   "outputs": [
    {
     "data": {
      "text/plain": [
       "Net(\n",
       "  (conv1): Conv2d(1, 32, kernel_size=(7, 7), stride=(1, 1))\n",
       "  (conv2): Conv2d(32, 64, kernel_size=(5, 5), stride=(1, 1))\n",
       "  (conv3): Conv2d(64, 128, kernel_size=(5, 5), stride=(1, 1))\n",
       "  (conv4): Conv2d(128, 256, kernel_size=(3, 3), stride=(1, 1))\n",
       "  (fc1): Linear(in_features=256, out_features=256, bias=True)\n",
       "  (fc2): Linear(in_features=256, out_features=4, bias=True)\n",
       "  (loss_function): CrossEntropyLoss()\n",
       "  (accuracy): MulticlassAccuracy()\n",
       "  (f1_score): MulticlassF1Score()\n",
       ")"
      ]
     },
     "execution_count": 6,
     "metadata": {},
     "output_type": "execute_result"
    }
   ],
   "source": [
    "model.eval()"
   ]
  },
  {
   "cell_type": "code",
   "execution_count": 7,
   "metadata": {},
   "outputs": [],
   "source": [
    "img = read_image(\"QR_d_best/1_1_A_4.jpg\")\n",
    "img = img.float()\n",
    "img = img/255.0\n",
    "transform = transforms.Resize((64, 64))\n",
    "img = transform(img)\n",
    "img = img.unsqueeze(0)\n"
   ]
  },
  {
   "cell_type": "code",
   "execution_count": 30,
   "metadata": {},
   "outputs": [
    {
     "data": {
      "text/plain": [
       "tensor([4], device='cuda:0')"
      ]
     },
     "execution_count": 30,
     "metadata": {},
     "output_type": "execute_result"
    }
   ],
   "source": [
    "torch.argmax(model(img.to(\"cuda\")), dim=1)+1"
   ]
  },
  {
   "cell_type": "code",
   "execution_count": 9,
   "metadata": {},
   "outputs": [
    {
     "data": {
      "text/plain": [
       "tensor([[-0.3075, -0.6173, -2.1361,  1.6058]], device='cuda:0',\n",
       "       grad_fn=<AddmmBackward0>)"
      ]
     },
     "execution_count": 9,
     "metadata": {},
     "output_type": "execute_result"
    }
   ],
   "source": [
    "model(img.to(\"cuda\"))"
   ]
  }
 ],
 "metadata": {
  "kernelspec": {
   "display_name": "Python 3",
   "language": "python",
   "name": "python3"
  },
  "language_info": {
   "codemirror_mode": {
    "name": "ipython",
    "version": 3
   },
   "file_extension": ".py",
   "mimetype": "text/x-python",
   "name": "python",
   "nbconvert_exporter": "python",
   "pygments_lexer": "ipython3",
   "version": "3.10.12"
  }
 },
 "nbformat": 4,
 "nbformat_minor": 2
}
